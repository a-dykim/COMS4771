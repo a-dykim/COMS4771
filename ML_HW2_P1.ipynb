{
 "cells": [
  {
   "cell_type": "code",
   "execution_count": 1,
   "metadata": {},
   "outputs": [
    {
     "name": "stdout",
     "output_type": "stream",
     "text": [
      "Populating the interactive namespace from numpy and matplotlib\n"
     ]
    }
   ],
   "source": [
    "%pylab inline"
   ]
  },
  {
   "cell_type": "code",
   "execution_count": 2,
   "metadata": {
    "collapsed": true
   },
   "outputs": [],
   "source": [
    "import numpy as np\n",
    "import pylab as plt"
   ]
  },
  {
   "cell_type": "code",
   "execution_count": 3,
   "metadata": {
    "collapsed": true
   },
   "outputs": [],
   "source": [
    "## Gradient Descent Algorithm Check"
   ]
  },
  {
   "cell_type": "code",
   "execution_count": 21,
   "metadata": {
    "collapsed": true
   },
   "outputs": [],
   "source": [
    "func = exp(-x**2)*log(cos(x))\n",
    "func = 3*x**2"
   ]
  },
  {
   "cell_type": "code",
   "execution_count": 49,
   "metadata": {
    "collapsed": true
   },
   "outputs": [],
   "source": [
    "def GD(func, start_point, learning_rate, precision, max_iter=1e4):\n",
    "    \"\"\"\n",
    "    Gradient Descent Method\n",
    "    \"\"\"\n",
    "    x = sy.symbols('x')\n",
    "    df = lambda x: 3*x**2 - x\n",
    "    #print (df)\n",
    "    current = start_point\n",
    "    conv_step = 1\n",
    "    niter = 0\n",
    "    currents = np.zeros(int(max_iter))\n",
    "    \n",
    "    while conv_step > precision and niter < max_iter:\n",
    "        previous = current\n",
    "        current = current - learning_rate * df(previous)\n",
    "        print (previous, current)\n",
    "        conv_step = np.abs(current - previous)\n",
    "        #currents[niter] = current\n",
    "        niter += 1\n",
    "        \n",
    "    currents = currents[np.nonzero(currents)]\n",
    "    \n",
    "    return currents\n",
    "        \n",
    "        "
   ]
  },
  {
   "cell_type": "code",
   "execution_count": 53,
   "metadata": {
    "scrolled": false
   },
   "outputs": [
    {
     "name": "stdout",
     "output_type": "stream",
     "text": [
      "10 -19.0\n",
      "-19.0 -129.2\n",
      "-129.2 -5149.911999999998\n",
      "-5149.911999999998 -7962142.985523195\n",
      "-7962142.985523195 -19018725034932.152\n",
      "-19018725034932.152 -1.0851357058632742e+26\n",
      "-1.0851357058632742e+26 -3.5325585004181587e+51\n",
      "-3.5325585004181587e+51 -3.7436908676629776e+102\n",
      "-3.7436908676629776e+102 -4.2045663937869536e+204\n"
     ]
    },
    {
     "ename": "OverflowError",
     "evalue": "(34, 'Result too large')",
     "output_type": "error",
     "traceback": [
      "\u001b[0;31m---------------------------------------------------------------------------\u001b[0m",
      "\u001b[0;31mOverflowError\u001b[0m                             Traceback (most recent call last)",
      "\u001b[0;32m<ipython-input-53-717c616017a8>\u001b[0m in \u001b[0;36m<module>\u001b[0;34m()\u001b[0m\n\u001b[0;32m----> 1\u001b[0;31m \u001b[0mGD\u001b[0m\u001b[0;34m(\u001b[0m\u001b[0mfunc\u001b[0m\u001b[0;34m,\u001b[0m \u001b[0mstart_point\u001b[0m\u001b[0;34m=\u001b[0m\u001b[0;36m10\u001b[0m\u001b[0;34m,\u001b[0m \u001b[0mlearning_rate\u001b[0m\u001b[0;34m=\u001b[0m\u001b[0;36m0.1\u001b[0m\u001b[0;34m,\u001b[0m \u001b[0mprecision\u001b[0m\u001b[0;34m=\u001b[0m\u001b[0;36m0.000001\u001b[0m\u001b[0;34m,\u001b[0m \u001b[0mmax_iter\u001b[0m\u001b[0;34m=\u001b[0m\u001b[0;36m1e3\u001b[0m\u001b[0;34m)\u001b[0m\u001b[0;34m\u001b[0m\u001b[0m\n\u001b[0m",
      "\u001b[0;32m<ipython-input-49-be4e0dd75219>\u001b[0m in \u001b[0;36mGD\u001b[0;34m(func, start_point, learning_rate, precision, max_iter)\u001b[0m\n\u001b[1;32m     14\u001b[0m     \u001b[0;32mwhile\u001b[0m \u001b[0mconv_step\u001b[0m \u001b[0;34m>\u001b[0m \u001b[0mprecision\u001b[0m \u001b[0;32mand\u001b[0m \u001b[0mniter\u001b[0m \u001b[0;34m<\u001b[0m \u001b[0mmax_iter\u001b[0m\u001b[0;34m:\u001b[0m\u001b[0;34m\u001b[0m\u001b[0m\n\u001b[1;32m     15\u001b[0m         \u001b[0mprevious\u001b[0m \u001b[0;34m=\u001b[0m \u001b[0mcurrent\u001b[0m\u001b[0;34m\u001b[0m\u001b[0m\n\u001b[0;32m---> 16\u001b[0;31m         \u001b[0mcurrent\u001b[0m \u001b[0;34m=\u001b[0m \u001b[0mcurrent\u001b[0m \u001b[0;34m-\u001b[0m \u001b[0mlearning_rate\u001b[0m \u001b[0;34m*\u001b[0m \u001b[0mdf\u001b[0m\u001b[0;34m(\u001b[0m\u001b[0mprevious\u001b[0m\u001b[0;34m)\u001b[0m\u001b[0;34m\u001b[0m\u001b[0m\n\u001b[0m\u001b[1;32m     17\u001b[0m         \u001b[0mprint\u001b[0m \u001b[0;34m(\u001b[0m\u001b[0mprevious\u001b[0m\u001b[0;34m,\u001b[0m \u001b[0mcurrent\u001b[0m\u001b[0;34m)\u001b[0m\u001b[0;34m\u001b[0m\u001b[0m\n\u001b[1;32m     18\u001b[0m         \u001b[0mconv_step\u001b[0m \u001b[0;34m=\u001b[0m \u001b[0mnp\u001b[0m\u001b[0;34m.\u001b[0m\u001b[0mabs\u001b[0m\u001b[0;34m(\u001b[0m\u001b[0mcurrent\u001b[0m \u001b[0;34m-\u001b[0m \u001b[0mprevious\u001b[0m\u001b[0;34m)\u001b[0m\u001b[0;34m\u001b[0m\u001b[0m\n",
      "\u001b[0;32m<ipython-input-49-be4e0dd75219>\u001b[0m in \u001b[0;36m<lambda>\u001b[0;34m(x)\u001b[0m\n\u001b[1;32m      4\u001b[0m     \"\"\"\n\u001b[1;32m      5\u001b[0m     \u001b[0mx\u001b[0m \u001b[0;34m=\u001b[0m \u001b[0msy\u001b[0m\u001b[0;34m.\u001b[0m\u001b[0msymbols\u001b[0m\u001b[0;34m(\u001b[0m\u001b[0;34m'x'\u001b[0m\u001b[0;34m)\u001b[0m\u001b[0;34m\u001b[0m\u001b[0m\n\u001b[0;32m----> 6\u001b[0;31m     \u001b[0mdf\u001b[0m \u001b[0;34m=\u001b[0m \u001b[0;32mlambda\u001b[0m \u001b[0mx\u001b[0m\u001b[0;34m:\u001b[0m \u001b[0;36m3\u001b[0m\u001b[0;34m*\u001b[0m\u001b[0mx\u001b[0m\u001b[0;34m**\u001b[0m\u001b[0;36m2\u001b[0m \u001b[0;34m-\u001b[0m \u001b[0mx\u001b[0m\u001b[0;34m\u001b[0m\u001b[0m\n\u001b[0m\u001b[1;32m      7\u001b[0m     \u001b[0;31m#sy.diff(func)\u001b[0m\u001b[0;34m\u001b[0m\u001b[0;34m\u001b[0m\u001b[0m\n\u001b[1;32m      8\u001b[0m     \u001b[0;31m#print (df)\u001b[0m\u001b[0;34m\u001b[0m\u001b[0;34m\u001b[0m\u001b[0m\n",
      "\u001b[0;31mOverflowError\u001b[0m: (34, 'Result too large')"
     ]
    }
   ],
   "source": [
    "GD(func, start_point=10, learning_rate=0.1, precision=0.000001, max_iter=1e3)"
   ]
  },
  {
   "cell_type": "code",
   "execution_count": 54,
   "metadata": {
    "scrolled": true
   },
   "outputs": [
    {
     "name": "stdout",
     "output_type": "stream",
     "text": [
      "1 0.8\n",
      "0.8 0.688\n",
      "0.688 0.6147967999999999\n",
      "0.6147967999999999 0.5628839484129279\n",
      "0.5628839484129279 0.5241208414399424\n",
      "0.5241208414399424 0.4941221286544227\n",
      "0.4941221286544227 0.4702873381120716\n",
      "0.4702873381120716 0.4509650178067174\n",
      "0.4509650178067174 0.4350506854017652\n",
      "0.4350506854017652 0.42177502428137803\n",
      "0.42177502428137803 0.41058427537724873\n",
      "0.41058427537724873 0.4010688687588555\n",
      "0.4010688687588555 0.39291888438848865\n",
      "0.39291888438848865 0.3858951979146092\n",
      "0.3858951979146092 0.3798101865740035\n",
      "0.3798101865740035 0.37451447188379006\n",
      "0.37451447188379006 0.3698875921770508\n",
      "0.3698875921770508 0.365831302140795\n",
      "0.365831302140795 0.3622646698670656\n",
      "0.3622646698670656 0.35912042954360396\n",
      "0.35912042954360396 0.3563422276232896\n",
      "0.3563422276232896 0.35388251542936006\n",
      "0.35388251542936006 0.3517009165543127\n",
      "0.3517009165543127 0.3497629477982009\n",
      "0.3497629477982009 0.3480390066822749\n",
      "0.3480390066822749 0.346503562298787\n",
      "0.346503562298787 0.3451345029229409\n",
      "0.3451345029229409 0.34391260568287535\n",
      "0.34391260568287535 0.34282110214688744\n",
      "0.34282110214688744 0.3418453199384142\n",
      "0.3418453199384142 0.3409723851031166\n",
      "0.3409723851031166 0.3401909733925559\n",
      "0.3401909733925559 0.3394911012184791\n",
      "0.3394911012184791 0.3388639489983663\n",
      "0.3388639489983663 0.3383017111189727\n",
      "0.3383017111189727 0.33779746790706255\n",
      "0.33779746790706255 0.33734507590044194\n",
      "0.33734507590044194 0.3369390734202036\n",
      "0.3369390734202036 0.3365745990030444\n",
      "0.3365745990030444 0.33624732069513075\n",
      "0.33624732069513075 0.3359533745622476\n",
      "0.3359533745622476 0.3356893110545438\n",
      "0.3356893110545438 0.3354520480931159\n",
      "0.3354520480931159 0.33523882993146764\n",
      "0.33523882993146764 0.33504719099646857\n",
      "0.33504719099646857 0.3348749240377282\n",
      "0.3348749240377282 0.3347200520167188\n",
      "0.3347200520167188 0.3345808032517682\n",
      "0.3345808032517682 0.33445558940556547\n",
      "0.33445558940556547 0.33434298596073475\n",
      "0.33434298596073475 0.3342417148784662\n",
      "0.3342417148784662 0.33415062917684346\n",
      "0.33415062917684346 0.3340686992007437\n",
      "0.3340686992007437 0.333995000385115\n",
      "0.333995000385115 0.3339287023389506\n",
      "0.3339287023389506 0.333869059099113\n",
      "0.333869059099113 0.3338154004219062\n",
      "0.3338154004219062 0.3337671239964456\n",
      "0.3337671239964456 0.33372368847783257\n",
      "0.33372368847783257 0.333684607250241\n",
      "0.333684607250241 0.3336494428405408\n",
      "0.3336494428405408 0.33361780191225393\n",
      "0.33361780191225393 0.33358933077765013\n",
      "0.33358933077765013 0.333563711372811\n",
      "0.333563711372811 0.3335406576466509\n",
      "0.3335406576466509 0.33351991232030787\n",
      "0.33351991232030787 0.3335012439780949\n",
      "0.3335012439780949 0.33348444445542336\n",
      "0.33348444445542336 0.333469326492843\n",
      "0.333469326492843 0.3334557216286502\n",
      "0.3334557216286502 0.33344347830545007\n",
      "0.33344347830545007 0.3334324601686639\n",
      "0.3334324601686639 0.333422544537292\n",
      "0.333422544537292 0.33341362102930444\n",
      "0.33341362102930444 0.3334055903258731\n",
      "0.3334055903258731 0.33339836306029724\n",
      "0.33339836306029724 0.33339185881894123\n",
      "0.33339185881894123 0.3333860052428107\n",
      "0.3333860052428107 0.33338073721956396\n",
      "0.33338073721956396 0.33337599615680236\n",
      "0.33337599615680236 0.3333717293284205\n",
      "0.3333717293284205 0.3333678892866361\n",
      "0.3333678892866361 0.33336443333307164\n",
      "0.33336443333307164 0.3333613230429348\n",
      "0.3333613230429348 0.33335852383694753\n",
      "0.33335852383694753 0.33335600459621767\n",
      "0.33335600459621767 0.33335373731573337\n",
      "0.33335373731573337 0.33335169679259663\n",
      "0.33335169679259663 0.3333498603455053\n",
      "0.3333498603455053 0.33334820756234546\n",
      "0.33334820756234546 0.3333467200730714\n",
      "0.3333467200730714 0.3333453813453362\n",
      "0.3333453813453362 0.33334417650058956\n",
      "0.33334417650058956 0.33334309214859165\n",
      "0.33334309214859165 0.33334211623849547\n"
     ]
    },
    {
     "data": {
      "text/plain": [
       "array([], dtype=float64)"
      ]
     },
     "execution_count": 54,
     "metadata": {},
     "output_type": "execute_result"
    }
   ],
   "source": [
    "GD(func, start_point=1, learning_rate=0.1, precision=0.000001, max_iter=1e3)"
   ]
  },
  {
   "cell_type": "code",
   "execution_count": null,
   "metadata": {
    "collapsed": true
   },
   "outputs": [],
   "source": [
    "def SGD(func, start_point, learning_rate, precision, max_iter=1e4):\n",
    "    \"\"\"\n",
    "    Stochastric\n",
    "    \"\"\"\n",
    "    df = lambda x: 3*x**2 - x\n",
    "    #print (df)\n",
    "    current = start_point\n",
    "    conv_step = 1\n",
    "    niter = 0\n",
    "    currents = np.zeros(int(max_iter))\n",
    "    \n",
    "    while conv_step > precision and niter < max_iter:\n",
    "        previous = current\n",
    "        current = current - learning_rate * df(previous)\n",
    "        print (previous, current)\n",
    "        conv_step = np.abs(current - previous)\n",
    "        #currents[niter] = current\n",
    "        niter += 1\n",
    "        \n",
    "    currents = currents[np.nonzero(currents)]\n",
    "    \n",
    "    return currents\n",
    "        \n",
    "        "
   ]
  },
  {
   "cell_type": "code",
   "execution_count": null,
   "metadata": {
    "collapsed": true
   },
   "outputs": [],
   "source": []
  },
  {
   "cell_type": "code",
   "execution_count": 53,
   "metadata": {},
   "outputs": [],
   "source": [
    "def GD_regression(x,y,a0=0,b0=0, niter=1000, learning_rate=0.001):\n",
    "    \"\"\"\n",
    "    Fit a straight line ax+b \n",
    "    \"\"\"\n",
    "    N = len(y)\n",
    "    costs = np.zeros(niter)\n",
    "    for i in range(niter):\n",
    "        if i == 0:\n",
    "            a_now, b_now = a0, b0\n",
    "        y_now = (a_now * x) + b_now\n",
    "        costs[i] = sum([c**2 for c in (y-y_now)]) / N\n",
    "        grad_a = -(2/N) * sum(x*(y-y_now))\n",
    "        grad_b = -(2/N) * sum(y-y_now)      \n",
    "        a_now = a_now - (learning_rate * grad_a)\n",
    "        b_now = b_now - (learning_rate * grad_b)\n",
    "        \n",
    "    return a_now, b_now, costs"
   ]
  },
  {
   "cell_type": "code",
   "execution_count": 75,
   "metadata": {
    "collapsed": true
   },
   "outputs": [],
   "source": [
    "def SGD_regression(x,y,a0=0,b0=0, subset_size=20, niter=1000, learning_rate=0.001):\n",
    "    \"\"\"\n",
    "    Fit a straight line ax+b with SGD (smaller subsets of data for each iteration)\n",
    "    \"\"\"\n",
    "    N = len(y)\n",
    "    costs = np.zeros(niter)\n",
    "    for i in range(niter):\n",
    "        if i == 0:\n",
    "            a_now, b_now = a0, b0\n",
    "        \n",
    "        subset_index = np.random.random_integers(low=0, high=N-1, size=subset_size)\n",
    "        x_subset = x[[subset_index]]\n",
    "        y_subset = y[[subset_index]]\n",
    "        \n",
    "        y_now = (a_now * x_subset) + b_now\n",
    "        costs[i] = sum([c**2 for c in (y_subset-y_now)]) / N\n",
    "        grad_a = -(2/N) * sum(x_subset*(y_subset-y_now))\n",
    "        grad_b = -(2/N) * sum(y_subset-y_now)      \n",
    "        a_now = a_now - (learning_rate * grad_a)\n",
    "        b_now = b_now - (learning_rate * grad_b)\n",
    "        \n",
    "    return a_now, b_now, costs"
   ]
  },
  {
   "cell_type": "code",
   "execution_count": 63,
   "metadata": {
    "collapsed": true
   },
   "outputs": [],
   "source": [
    "samp_x = np.sort(np.random.rand(50))\n",
    "samp_N = np.random.rand(50) * np.random.rand(50)\n",
    "samp_y = samp_x * 2 + samp_N"
   ]
  },
  {
   "cell_type": "code",
   "execution_count": 79,
   "metadata": {},
   "outputs": [],
   "source": [
    "slope, intersect, costs = GD_regression(samp_x, samp_y)"
   ]
  },
  {
   "cell_type": "code",
   "execution_count": 80,
   "metadata": {},
   "outputs": [
    {
     "data": {
      "text/plain": [
       "Text(0.5,1,'GD')"
      ]
     },
     "execution_count": 80,
     "metadata": {},
     "output_type": "execute_result"
    },
    {
     "data": {
      "image/png": "[encoded data removed]",
      "text/plain": [
       "<matplotlib.figure.Figure at 0x1144c9400>"
      ]
     },
     "metadata": {},
     "output_type": "display_data"
    }
   ],
   "source": [
    "plt.plot(samp_x, samp_y, '.')\n",
    "plt.plot(slope*samp_x+intersect)\n",
    "plt.xlabel('x')\n",
    "plt.ylabel('y')\n",
    "plt.title('GD')"
   ]
  },
  {
   "cell_type": "code",
   "execution_count": 76,
   "metadata": {},
   "outputs": [
    {
     "name": "stderr",
     "output_type": "stream",
     "text": [
      "/Users/Doyeon/anaconda3/lib/python3.6/site-packages/ipykernel_launcher.py:11: DeprecationWarning: This function is deprecated. Please call randint(0, 49 + 1) instead\n",
      "  # This is added back by InteractiveShellApp.init_path()\n"
     ]
    }
   ],
   "source": [
    "slope, intersect, costs = SGD_regression(samp_x, samp_y)"
   ]
  },
  {
   "cell_type": "code",
   "execution_count": 78,
   "metadata": {},
   "outputs": [
    {
     "data": {
      "text/plain": [
       "Text(0.5,1,'SGD')"
      ]
     },
     "execution_count": 78,
     "metadata": {},
     "output_type": "execute_result"
    },
    {
     "data": {
      "image/png": "[encoded data removed]",
      "text/plain": [
       "<matplotlib.figure.Figure at 0x113ffc860>"
      ]
     },
     "metadata": {},
     "output_type": "display_data"
    }
   ],
   "source": [
    "plt.plot(samp_x, samp_y, '.')\n",
    "plt.plot(slope*samp_x+intersect)\n",
    "plt.xlabel('x')\n",
    "plt.ylabel('y')\n",
    "plt.title('SGD')"
   ]
  },
  {
   "cell_type": "code",
   "execution_count": null,
   "metadata": {
    "collapsed": true
   },
   "outputs": [],
   "source": []
  }
 ],
 "metadata": {
  "kernelspec": {
   "display_name": "Python 3",
   "language": "python",
   "name": "python3"
  },
  "language_info": {
   "codemirror_mode": {
    "name": "ipython",
    "version": 3
   },
   "file_extension": ".py",
   "mimetype": "text/x-python",
   "name": "python",
   "nbconvert_exporter": "python",
   "pygments_lexer": "ipython3",
   "version": "3.6.3"
  }
 },
 "nbformat": 4,
 "nbformat_minor": 2
}
