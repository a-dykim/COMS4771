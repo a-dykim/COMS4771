{
 "cells": [
  {
   "cell_type": "code",
   "execution_count": 1,
   "metadata": {},
   "outputs": [
    {
     "name": "stdout",
     "output_type": "stream",
     "text": [
      "Populating the interactive namespace from numpy and matplotlib\n"
     ]
    }
   ],
   "source": [
    "%pylab inline"
   ]
  },
  {
   "cell_type": "code",
   "execution_count": 2,
   "metadata": {
    "collapsed": true
   },
   "outputs": [],
   "source": [
    "import numpy as np\n",
    "import pylab as plt"
   ]
  },
  {
   "cell_type": "code",
   "execution_count": 3,
   "metadata": {
    "collapsed": true
   },
   "outputs": [],
   "source": [
    "## Gradient Descent Algorithm Check"
   ]
  },
  {
   "cell_type": "code",
   "execution_count": 87,
   "metadata": {
    "collapsed": true
   },
   "outputs": [],
   "source": [
    "def GD_regression(x,y,a0=0,b0=0, niter=1000, learning_rate=0.01):\n",
    "    \"\"\"\n",
    "    Fit a straight line ax+b using Gradient Descent\n",
    "    \"\"\"\n",
    "    N = len(y)\n",
    "    costs = np.zeros(niter)\n",
    "    for i in range(niter):\n",
    "        if i == 0:\n",
    "            a_now, b_now = a0, b0\n",
    "        y_now = (a_now * x) + b_now\n",
    "        costs[i] = sum([c**2 for c in (y-y_now)]) / N\n",
    "        grad_a = -(2/N) * sum(x*(y-y_now))\n",
    "        grad_b = -(2/N) * sum(y-y_now)      \n",
    "        a_now = a_now - (learning_rate * grad_a)\n",
    "        b_now = b_now - (learning_rate * grad_b)\n",
    "        \n",
    "    return a_now, b_now, costs"
   ]
  },
  {
   "cell_type": "code",
   "execution_count": 88,
   "metadata": {
    "collapsed": true
   },
   "outputs": [],
   "source": [
    "def SGD_regression(x,y,a0=0,b0=0, subset_size=20, niter=1000, learning_rate=0.01):\n",
    "    \"\"\"\n",
    "    Fit a straight line ax+b with SGD (smaller subsets of data for each iteration)\n",
    "    \"\"\"\n",
    "    N = len(y)\n",
    "    costs = np.zeros(niter)\n",
    "    for i in range(niter):\n",
    "        if i == 0:\n",
    "            a_now, b_now = a0, b0\n",
    "        \n",
    "        subset_index = np.random.random_integers(low=0, high=N-1, size=subset_size)\n",
    "        x_subset = x[[subset_index]]\n",
    "        y_subset = y[[subset_index]]\n",
    "        \n",
    "        y_now = (a_now * x_subset) + b_now\n",
    "        costs[i] = sum([c**2 for c in (y_subset-y_now)]) / N\n",
    "        grad_a = -(2/N) * sum(x_subset*(y_subset-y_now))\n",
    "        grad_b = -(2/N) * sum(y_subset-y_now)      \n",
    "        a_now = a_now - (learning_rate * grad_a)\n",
    "        b_now = b_now - (learning_rate * grad_b)\n",
    "        \n",
    "    return a_now, b_now, costs"
   ]
  },
  {
   "cell_type": "code",
   "execution_count": 64,
   "metadata": {
    "collapsed": true
   },
   "outputs": [],
   "source": [
    "samp_x = np.sort(np.random.rand(50))\n",
    "samp_N = np.random.rand(50) * np.random.rand(50)\n",
    "samp_y = samp_x * 2 + samp_N"
   ]
  },
  {
   "cell_type": "code",
   "execution_count": 89,
   "metadata": {
    "collapsed": true
   },
   "outputs": [],
   "source": [
    "slope, intersect, costs = GD_regression(samp_x, samp_y)"
   ]
  },
  {
   "cell_type": "code",
   "execution_count": 90,
   "metadata": {},
   "outputs": [
    {
     "data": {
      "text/plain": [
       "<matplotlib.legend.Legend at 0x1146d8e80>"
      ]
     },
     "execution_count": 90,
     "metadata": {},
     "output_type": "execute_result"
    },
    {
     "data": {
      "image/png": "[encoded data removed]",
      "text/plain": [
       "<matplotlib.figure.Figure at 0x114549860>"
      ]
     },
     "metadata": {},
     "output_type": "display_data"
    }
   ],
   "source": [
    "plt.plot(samp_x, samp_y, '.')\n",
    "plt.plot(samp_x, slope*samp_x+intersect, label=str(slope)+'x+'+str(intersect))\n",
    "plt.xlabel('x')\n",
    "plt.ylabel('y')\n",
    "plt.title('GD')\n",
    "plt.legend()"
   ]
  },
  {
   "cell_type": "code",
   "execution_count": 92,
   "metadata": {},
   "outputs": [
    {
     "name": "stderr",
     "output_type": "stream",
     "text": [
      "/Users/Doyeon/anaconda3/lib/python3.6/site-packages/ipykernel_launcher.py:11: DeprecationWarning: This function is deprecated. Please call randint(0, 49 + 1) instead\n",
      "  # This is added back by InteractiveShellApp.init_path()\n"
     ]
    }
   ],
   "source": [
    "slope, intersect, costs = SGD_regression(samp_x, samp_y)"
   ]
  },
  {
   "cell_type": "code",
   "execution_count": 93,
   "metadata": {},
   "outputs": [
    {
     "data": {
      "text/plain": [
       "<matplotlib.legend.Legend at 0x1147ad828>"
      ]
     },
     "execution_count": 93,
     "metadata": {},
     "output_type": "execute_result"
    },
    {
     "data": {
      "image/png": "[encoded data removed]",
      "text/plain": [
       "<matplotlib.figure.Figure at 0x114724d30>"
      ]
     },
     "metadata": {},
     "output_type": "display_data"
    }
   ],
   "source": [
    "plt.plot(samp_x, samp_y, '.')\n",
    "plt.plot(samp_x, slope*samp_x+intersect, label=str(slope)+'x+'+str(intersect))\n",
    "\n",
    "plt.xlabel('x')\n",
    "plt.ylabel('y')\n",
    "plt.title('SGD')\n",
    "plt.legend()"
   ]
  },
  {
   "cell_type": "code",
   "execution_count": 91,
   "metadata": {
    "collapsed": true
   },
   "outputs": [],
   "source": [
    "def SGD_momentum_regression(x,y,a0=0,b0=0, subset_size=20, niter=1000, learning_rate=0.001, vrate=0.85):\n",
    "    \"\"\"\n",
    "    Fit a straight line ax+b with SGD Moment(smaller subsets of data for each iteration)\n",
    "    vrate: velocity weight\n",
    "    \"\"\"\n",
    "    N = len(y)\n",
    "    costs = np.zeros(niter)\n",
    "    vel_a = np.zeros(niter)\n",
    "    vel_b = np.zeros(niter)\n",
    "    \n",
    "    for i in range(niter):\n",
    "        if i == 0:\n",
    "            a_now, b_now = a0, b0\n",
    "        \n",
    "        subset_index = np.random.random_integers(low=0, high=N-1, size=subset_size)\n",
    "        x_subset = x[[subset_index]]\n",
    "        y_subset = y[[subset_index]]\n",
    "        \n",
    "        y_now = (a_now * x_subset) + b_now\n",
    "        costs[i] = sum([c**2 for c in (y_subset-y_now)]) / N\n",
    "        grad_a = -(2/N) * sum(x_subset*(y_subset-y_now))\n",
    "        grad_b = -(2/N) * sum(y_subset-y_now)\n",
    "        a_past = a_now ## just to perserve\n",
    "        b_past = b_now\n",
    "        \n",
    "        a_now = a_now - (learning_rate * grad_a + vrate * vel_a[i])\n",
    "        b_now = b_now - (learning_rate * grad_b + vrate * vel_b[i])\n",
    "        \n",
    "        vel_a[i] = a_now - a_past\n",
    "        vel_b[i] = b_now - b_past\n",
    "    \n",
    "    velocities = np.vstack((vel_a, vel_b))\n",
    "        \n",
    "    return a_now, b_now, costs, velocities"
   ]
  },
  {
   "cell_type": "code",
   "execution_count": 94,
   "metadata": {},
   "outputs": [
    {
     "name": "stderr",
     "output_type": "stream",
     "text": [
      "/Users/Doyeon/anaconda3/lib/python3.6/site-packages/ipykernel_launcher.py:15: DeprecationWarning: This function is deprecated. Please call randint(0, 49 + 1) instead\n",
      "  from ipykernel import kernelapp as app\n"
     ]
    }
   ],
   "source": [
    "slope, intersect, costs, velocities = SGD_momentum_regression(samp_x, samp_y)"
   ]
  },
  {
   "cell_type": "code",
   "execution_count": 69,
   "metadata": {},
   "outputs": [
    {
     "data": {
      "text/plain": [
       "[<matplotlib.lines.Line2D at 0x113cc9940>]"
      ]
     },
     "execution_count": 69,
     "metadata": {},
     "output_type": "execute_result"
    },
    {
     "data": {
      "image/png": "[encoded data removed]",
      "text/plain": [
       "<matplotlib.figure.Figure at 0x113cc9b38>"
      ]
     },
     "metadata": {},
     "output_type": "display_data"
    }
   ],
   "source": [
    "plt.plot(samp_x, samp_y, '.')\n",
    "plt.plot(samp_x, 2*samp_y, '-')"
   ]
  },
  {
   "cell_type": "code",
   "execution_count": 95,
   "metadata": {},
   "outputs": [
    {
     "data": {
      "text/plain": [
       "Text(0.5,1,'SGD Momentum')"
      ]
     },
     "execution_count": 95,
     "metadata": {},
     "output_type": "execute_result"
    },
    {
     "data": {
      "image/png": "[encoded data removed]",
      "text/plain": [
       "<matplotlib.figure.Figure at 0x1147241d0>"
      ]
     },
     "metadata": {},
     "output_type": "display_data"
    }
   ],
   "source": [
    "plt.plot(samp_x, samp_y, '.')\n",
    "#plt.plot(samp_x,slope*samp_x+intersect)\n",
    "plt.plot(samp_x, slope*samp_x+intersect, label=str(slope)+'x+'+str(intersect))\n",
    "plt.xlabel('x')\n",
    "plt.ylabel('y')\n",
    "plt.title('SGD Momentum')"
   ]
  },
  {
   "cell_type": "code",
   "execution_count": 101,
   "metadata": {
    "collapsed": true
   },
   "outputs": [],
   "source": [
    "def AdaGrad(x,y,a0=0,b0=0, subset_size=20, niter=10000, learning_rate=0.01):\n",
    "    \"\"\"\n",
    "    Fit a straight line ax+b with SGD Moment(smaller subsets of data for each iteration)\n",
    "    vrate: velocity weight\n",
    "    \"\"\"\n",
    "    N = len(y)\n",
    "    costs = np.zeros(niter)\n",
    "    \n",
    "    for i in range(niter):\n",
    "        if i == 0:\n",
    "            a_now, b_now = a0, b0\n",
    "        \n",
    "        subset_index = np.random.random_integers(low=0, high=N-1, size=subset_size)\n",
    "        x_subset = x[[subset_index]]\n",
    "        y_subset = y[[subset_index]]\n",
    "        \n",
    "        y_now = (a_now * x_subset) + b_now\n",
    "        costs[i] = sum([c**2 for c in (y_subset-y_now)]) / N\n",
    "        grad_a = -(2/N) * sum(x_subset*(y_subset-y_now))\n",
    "        grad_b = -(2/N) * sum(y_subset-y_now)\n",
    "\n",
    "        eps = 0.1 * np.std(x) ## small noise term to fiddle around\n",
    "        a_now = a_now - (learning_rate * grad_a) / (np.sqrt(grad_a**2)+eps)\n",
    "        b_now = b_now - (learning_rate * grad_b) / (np.sqrt(grad_b**2)+eps)\n",
    "\n",
    "        \n",
    "    return a_now, b_now, costs"
   ]
  },
  {
   "cell_type": "code",
   "execution_count": 98,
   "metadata": {},
   "outputs": [
    {
     "name": "stderr",
     "output_type": "stream",
     "text": [
      "/Users/Doyeon/anaconda3/lib/python3.6/site-packages/ipykernel_launcher.py:13: DeprecationWarning: This function is deprecated. Please call randint(0, 49 + 1) instead\n",
      "  del sys.path[0]\n"
     ]
    }
   ],
   "source": [
    "slope, intersect, costs = AdaGrad(samp_x, samp_y)"
   ]
  },
  {
   "cell_type": "code",
   "execution_count": 100,
   "metadata": {},
   "outputs": [
    {
     "data": {
      "text/plain": [
       "<matplotlib.legend.Legend at 0x114a06da0>"
      ]
     },
     "execution_count": 100,
     "metadata": {},
     "output_type": "execute_result"
    },
    {
     "data": {
      "image/png": "[encoded data removed]",
      "text/plain": [
       "<matplotlib.figure.Figure at 0x1148aff60>"
      ]
     },
     "metadata": {},
     "output_type": "display_data"
    }
   ],
   "source": [
    "plt.plot(samp_x, samp_y, '.')\n",
    "#plt.plot(samp_x,slope*samp_x+intersect)\n",
    "plt.plot(samp_x, slope*samp_x+intersect, label=str(slope)+'x+'+str(intersect))\n",
    "plt.xlabel('x')\n",
    "plt.ylabel('y')\n",
    "plt.title('AdaGrad')\n",
    "plt.legend()"
   ]
  },
  {
   "cell_type": "code",
   "execution_count": 102,
   "metadata": {
    "collapsed": true
   },
   "outputs": [],
   "source": [
    "def RMSprop(x,y,a0=0,b0=0, subset_size=20, niter=10000, learning_rate=0.01, gamma=0.85):\n",
    "    \"\"\"\n",
    "    Fit a straight line ax+b with SGD Moment(smaller subsets of data for each iteration)\n",
    "    gamma: weights of how much previous gradient is considered\n",
    "    \"\"\"\n",
    "    N = len(y)\n",
    "    costs = np.zeros(niter)\n",
    "    a_decay = np.zeros(niter+1)\n",
    "    b_decay = np.zeros(niter+1)\n",
    "    \n",
    "    for i in range(niter):\n",
    "        if i == 0:\n",
    "            a_now, b_now = a0, b0\n",
    "            \n",
    "        \n",
    "        subset_index = np.random.random_integers(low=0, high=N-1, size=subset_size)\n",
    "        x_subset = x[[subset_index]]\n",
    "        y_subset = y[[subset_index]]\n",
    "        \n",
    "        y_now = (a_now * x_subset) + b_now\n",
    "        costs[i] = sum([c**2 for c in (y_subset-y_now)]) / N\n",
    "        grad_a = -(2/N) * sum(x_subset*(y_subset-y_now))\n",
    "        grad_b = -(2/N) * sum(y_subset-y_now)\n",
    "\n",
    "        eps = 0.1 * np.std(x) ## small noise term to fiddle around\n",
    "        \n",
    "        if i == 0:\n",
    "            a_decay[i], b_decay[i] = grad_a**2, grad_b**2\n",
    "          \n",
    "        a_decay[i+1] =  gamma * a_decay[i] + (1-gamma) * (grad_a**2)\n",
    "        b_decay[i+1] = gamma * b_decay[i] + (1-gamma) * (grad_b**2) \n",
    "        \n",
    "        a_now = a_now - (learning_rate * grad_a) / (np.sqrt(a_decay[i+1])+eps)\n",
    "        b_now = b_now - (learning_rate * grad_b) / (np.sqrt(b_decay[i+1])+eps)\n",
    "\n",
    "        \n",
    "    return a_now, b_now, costs"
   ]
  },
  {
   "cell_type": "code",
   "execution_count": 103,
   "metadata": {},
   "outputs": [
    {
     "name": "stderr",
     "output_type": "stream",
     "text": [
      "/Users/Doyeon/anaconda3/lib/python3.6/site-packages/ipykernel_launcher.py:16: DeprecationWarning: This function is deprecated. Please call randint(0, 49 + 1) instead\n",
      "  app.launch_new_instance()\n"
     ]
    }
   ],
   "source": [
    "slope, intersect, costs = RMSprop(samp_x, samp_y)"
   ]
  },
  {
   "cell_type": "code",
   "execution_count": 104,
   "metadata": {},
   "outputs": [
    {
     "data": {
      "text/plain": [
       "<matplotlib.legend.Legend at 0x114adf9b0>"
      ]
     },
     "execution_count": 104,
     "metadata": {},
     "output_type": "execute_result"
    },
    {
     "data": {
      "image/png": "[encoded data removed]",
      "text/plain": [
       "<matplotlib.figure.Figure at 0x114a0fd30>"
      ]
     },
     "metadata": {},
     "output_type": "display_data"
    }
   ],
   "source": [
    "plt.plot(samp_x, samp_y, '.')\n",
    "plt.plot(samp_x, slope*samp_x+intersect, label=str(slope)+'x+'+str(intersect))\n",
    "plt.xlabel('x')\n",
    "plt.ylabel('y')\n",
    "plt.title('RMSprop')\n",
    "plt.legend()"
   ]
  },
  {
   "cell_type": "code",
   "execution_count": 105,
   "metadata": {
    "collapsed": true
   },
   "outputs": [],
   "source": [
    "def AdaDelta(x,y,a0=0,b0=0, subset_size=20, niter=10000, learning_rate=0.01, gamma=0.85):\n",
    "    \"\"\"\n",
    "    Fit a straight line ax+b with SGD Moment(smaller subsets of data for each iteration)\n",
    "    gamma: weights of how much previous gradient is considered\n",
    "    \"\"\"\n",
    "    N = len(y)\n",
    "    costs = np.zeros(niter)\n",
    "    a_decay = np.zeros(niter+1)\n",
    "    b_decay = np.zeros(niter+1)\n",
    "    \n",
    "    for i in range(niter):\n",
    "        if i == 0:\n",
    "            a_now, b_now = a0, b0\n",
    "            \n",
    "        \n",
    "        subset_index = np.random.random_integers(low=0, high=N-1, size=subset_size)\n",
    "        x_subset = x[[subset_index]]\n",
    "        y_subset = y[[subset_index]]\n",
    "        \n",
    "        y_now = (a_now * x_subset) + b_now\n",
    "        costs[i] = sum([c**2 for c in (y_subset-y_now)]) / N\n",
    "        grad_a = -(2/N) * sum(x_subset*(y_subset-y_now))\n",
    "        grad_b = -(2/N) * sum(y_subset-y_now)\n",
    "\n",
    "        eps = 0.1 * np.std(x) ## small noise term to fiddle around\n",
    "        \n",
    "        if i == 0:\n",
    "            a_decay[i], b_decay[i] = grad_a**2, grad_b**2\n",
    "        \n",
    "        a_now = a_now - (learning_rate * grad_a) / (np.sqrt(a_decay[i]**2)+eps)\n",
    "        b_now = b_now - (learning_rate * grad_b) / (np.sqrt(b_decay[i]**2)+eps)\n",
    "\n",
    "        a_decay[i+1] =  gamma * a_decay[i] + (1-gamma) * (grad_a**2)\n",
    "        b_decay[i+1] = gamma * b_decay[i] + (1-gamma) * (grad_b**2) \n",
    "        \n",
    "    return a_now, b_now, costs"
   ]
  },
  {
   "cell_type": "code",
   "execution_count": 106,
   "metadata": {},
   "outputs": [
    {
     "name": "stderr",
     "output_type": "stream",
     "text": [
      "/Users/Doyeon/anaconda3/lib/python3.6/site-packages/ipykernel_launcher.py:16: DeprecationWarning: This function is deprecated. Please call randint(0, 49 + 1) instead\n",
      "  app.launch_new_instance()\n"
     ]
    }
   ],
   "source": [
    "slope, intersect, costs = AdaDelta(samp_x, samp_y)"
   ]
  },
  {
   "cell_type": "code",
   "execution_count": 107,
   "metadata": {},
   "outputs": [
    {
     "data": {
      "text/plain": [
       "<matplotlib.legend.Legend at 0x114b42e80>"
      ]
     },
     "execution_count": 107,
     "metadata": {},
     "output_type": "execute_result"
    },
    {
     "data": {
      "image/png": "[encoded data removed]",
      "text/plain": [
       "<matplotlib.figure.Figure at 0x114af8b00>"
      ]
     },
     "metadata": {},
     "output_type": "display_data"
    }
   ],
   "source": [
    "plt.plot(samp_x, samp_y, '.')\n",
    "plt.plot(samp_x, slope*samp_x+intersect, label=str(slope)+'x+'+str(intersect))\n",
    "plt.xlabel('x')\n",
    "plt.ylabel('y')\n",
    "plt.title('AdaDelta')\n",
    "plt.legend()"
   ]
  },
  {
   "cell_type": "code",
   "execution_count": null,
   "metadata": {
    "collapsed": true
   },
   "outputs": [],
   "source": []
  },
  {
   "cell_type": "code",
   "execution_count": null,
   "metadata": {
    "collapsed": true
   },
   "outputs": [],
   "source": []
  },
  {
   "cell_type": "code",
   "execution_count": null,
   "metadata": {
    "collapsed": true
   },
   "outputs": [],
   "source": []
  },
  {
   "cell_type": "code",
   "execution_count": null,
   "metadata": {
    "collapsed": true
   },
   "outputs": [],
   "source": []
  },
  {
   "cell_type": "code",
   "execution_count": null,
   "metadata": {
    "collapsed": true
   },
   "outputs": [],
   "source": []
  },
  {
   "cell_type": "code",
   "execution_count": null,
   "metadata": {
    "collapsed": true
   },
   "outputs": [],
   "source": []
  },
  {
   "cell_type": "code",
   "execution_count": null,
   "metadata": {
    "collapsed": true
   },
   "outputs": [],
   "source": []
  }
 ],
 "metadata": {
  "kernelspec": {
   "display_name": "Python 3",
   "language": "python",
   "name": "python3"
  },
  "language_info": {
   "codemirror_mode": {
    "name": "ipython",
    "version": 3
   },
   "file_extension": ".py",
   "mimetype": "text/x-python",
   "name": "python",
   "nbconvert_exporter": "python",
   "pygments_lexer": "ipython3",
   "version": "3.6.3"
  }
 },
 "nbformat": 4,
 "nbformat_minor": 2
}
