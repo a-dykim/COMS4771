{
 "cells": [
  {
   "cell_type": "markdown",
   "metadata": {},
   "source": [
    "## Building Classifiers to filter Spam Emails\n",
    "\n",
    "- Naive Bayes\n",
    "- Decision Tree\n",
    "- Nearest Neighbor"
   ]
  },
  {
   "cell_type": "code",
   "execution_count": 9,
   "metadata": {
    "scrolled": false
   },
   "outputs": [
    {
     "name": "stdout",
     "output_type": "stream",
     "text": [
      "Populating the interactive namespace from numpy and matplotlib\n"
     ]
    },
    {
     "name": "stderr",
     "output_type": "stream",
     "text": [
      "/Users/Doyeon/anaconda3/lib/python3.6/site-packages/IPython/core/magics/pylab.py:160: UserWarning: pylab import has clobbered these variables: ['text', 'plt']\n",
      "`%matplotlib` prevents importing * from pylab and numpy\n",
      "  \"\\n`%matplotlib` prevents importing * from pylab and numpy\"\n"
     ]
    }
   ],
   "source": [
    "%pylab inline"
   ]
  },
  {
   "cell_type": "code",
   "execution_count": 2,
   "metadata": {
    "collapsed": true
   },
   "outputs": [],
   "source": [
    "import numpy as np\n",
    "import pylab as plt\n",
    "import nltk\n",
    "import glob\n",
    "\n",
    "## word stemming\n",
    "from nltk.stem import PorterStemmer\n",
    "from nltk.tokenize import sent_tokenize, word_tokenize\n",
    "from nltk.tokenize import RegexpTokenizer\n",
    "ps = PorterStemmer()\n",
    "#nltk.download()"
   ]
  },
  {
   "cell_type": "markdown",
   "metadata": {},
   "source": [
    "### Load Spam and Ham (Non-Spam) emails"
   ]
  },
  {
   "cell_type": "code",
   "execution_count": 3,
   "metadata": {
    "collapsed": true,
    "scrolled": true
   },
   "outputs": [],
   "source": [
    "ham_address = '/Volumes/Extra/Columbia/Fall2018/Classes/ML/enron1/ham/'\n",
    "spam_address = '/Volumes/Extra/Columbia/Fall2018/Classes/ML/enron1/spam/'"
   ]
  },
  {
   "cell_type": "code",
   "execution_count": 4,
   "metadata": {
    "collapsed": true
   },
   "outputs": [],
   "source": [
    "summary_file = open('/Volumes/Extra/Columbia/Fall2018/Classes/ML/enron1/Summary.txt')\n",
    "summary = summary_file.read()\n",
    "summary_file.close()"
   ]
  },
  {
   "cell_type": "code",
   "execution_count": 4,
   "metadata": {
    "collapsed": true
   },
   "outputs": [],
   "source": [
    "hams = []\n",
    "hamfiles = sorted(glob.glob(ham_address+'*.txt'))\n",
    "hfiles = len(hamfiles)\n",
    "for i in range(hfiles):\n",
    "    file = open(hamfiles[i], 'rt')\n",
    "    text = file.read()\n",
    "    hams.append(text)\n",
    "    file.close()\n",
    "\n",
    "spams = []\n",
    "spamfiles = sorted(glob.glob(spam_address+'*.txt'))\n",
    "sfiles = len(spamfiles)\n",
    "for i in range(sfiles):\n",
    "    file = open(spamfiles[i], 'rt', encoding=\"latin-1\")\n",
    "    text = file.read()\n",
    "    spams.append(text)\n",
    "    file.close()"
   ]
  },
  {
   "cell_type": "markdown",
   "metadata": {},
   "source": [
    "### Form dictionary using Stemming and Bag-of-Word Model"
   ]
  },
  {
   "cell_type": "code",
   "execution_count": 12,
   "metadata": {
    "collapsed": true
   },
   "outputs": [],
   "source": [
    "def embed_one(datalist):\n",
    "    \"\"\"\n",
    "    Construct stemmed+bag-of-words model for individual then construct an array of individual bags\n",
    "    \n",
    "    Returns\n",
    "    a collection of individual set dict corresponding to its counts\n",
    "    A list of N_items of individual dictionary\n",
    "    \"\"\"\n",
    "    bag_collection = []\n",
    "    ndata = len(datalist)\n",
    "    tokenizer = nltk.tokenize.RegexpTokenizer(r'\\w+')\n",
    "    \n",
    "    for i in range(ndata):\n",
    "        stemmed = []\n",
    "        token = tokenizer.tokenize(datalist[i])\n",
    "        for w in token:\n",
    "            stemmed.append(ps.stem(w))\n",
    "    \n",
    "        nstem = len(stemmed)\n",
    "        one_bag = {}\n",
    "        \n",
    "        for j in range(nstem):\n",
    "            key = stemmed[j]\n",
    "            if key in one_bag:\n",
    "                one_bag[key] += 1\n",
    "            else:\n",
    "                one_bag[key] = 1\n",
    "        bag_collection.append(one_bag)\n",
    "        \n",
    "    return bag_collection\n",
    "\n",
    "def embed_whole(datalist):\n",
    "    \"\"\"\n",
    "    From a list of data (should have multiple), do stemming (+remove non-words) then apply the bag-of-words model\n",
    "    \n",
    "    Returns\n",
    "    A combined dictionary of whole data\n",
    "    \"\"\"\n",
    "    bag = {}\n",
    "    ndata = len(datalist)\n",
    "    tokenizer = nltk.tokenize.RegexpTokenizer(r'\\w+')\n",
    "    \n",
    "    for i in range(ndata):\n",
    "        stemmed = []\n",
    "        token = tokenizer.tokenize(datalist[i])\n",
    "        for w in token:\n",
    "            stemmed.append(ps.stem(w))\n",
    "        #stemmed = list(set(stemmed))\n",
    "        nstem = len(stemmed)\n",
    "        for j in range(nstem):\n",
    "            key = stemmed[j]\n",
    "            if key in bag:\n",
    "                bag[key] += 1\n",
    "            else:\n",
    "                bag[key] = 1        \n",
    "    return bag\n",
    "    \n",
    "def embed_one_sample(onelist):\n",
    "    \"\"\"\n",
    "    Construct a dictionary for one email\n",
    "    \"\"\"\n",
    "    one_bag = {}\n",
    "    tokenizer = nltk.tokenize.RegexpTokenizer(r'\\w+')\n",
    "    token = tokenizer.tokenize(onelist)\n",
    "    stemmed = []\n",
    "    one_bag = {}\n",
    "    for w in token:\n",
    "        stemmed.append(ps.stem(w))\n",
    "    nstem = len(stemmed)\n",
    "    for j in range(nstem):\n",
    "        key = stemmed[j]\n",
    "        if key in one_bag:\n",
    "            one_bag[key] += 1\n",
    "        else:\n",
    "            one_bag[key] = 1\n",
    "    \n",
    "    return one_bag\n",
    "\n",
    "def overlap(dict1, dict2):\n",
    "    \"\"\"\n",
    "    Find the overlapping dictionaries\n",
    "    \"\"\"\n",
    "    key1 = set(dict1.keys())\n",
    "    key2 = set(dict2.keys())\n",
    "    intersection = key1 & key2\n",
    "    newdict1 = {}\n",
    "    newdict2 = {}\n",
    "    intersection = list(intersection)\n",
    "    ninter = len(intersection)\n",
    "    for i in range(ninter):\n",
    "        newdict1[intersection[i]] = dict1[intersection[i]]\n",
    "        newdict2[intersection[i]] = dict2[intersection[i]]\n",
    "    return newdict1, newdict2\n",
    "    "
   ]
  },
  {
   "cell_type": "code",
   "execution_count": 13,
   "metadata": {
    "collapsed": true
   },
   "outputs": [],
   "source": [
    "ham_one_bag = embed_one(hams)\n",
    "spam_one_bag = embed_one(spams)"
   ]
  },
  {
   "cell_type": "code",
   "execution_count": 14,
   "metadata": {
    "collapsed": true
   },
   "outputs": [],
   "source": [
    "whole = np.concatenate((hams, spams))\n",
    "whole_bag = embed_whole(whole)\n",
    "whole_one_bag = embed_one(whole)"
   ]
  },
  {
   "cell_type": "code",
   "execution_count": 15,
   "metadata": {
    "collapsed": true
   },
   "outputs": [],
   "source": [
    "spam_sum_bag = embed_whole(spams)\n",
    "ham_sum_bag = embed_whole(hams)"
   ]
  },
  {
   "cell_type": "code",
   "execution_count": 28,
   "metadata": {
    "collapsed": true
   },
   "outputs": [],
   "source": [
    "ovlp_spam, ovlp_ham = overlap(spam_sum_bag, ham_sum_bag)"
   ]
  },
  {
   "cell_type": "markdown",
   "metadata": {},
   "source": [
    "### Accessories"
   ]
  },
  {
   "cell_type": "code",
   "execution_count": 20,
   "metadata": {
    "collapsed": true
   },
   "outputs": [],
   "source": [
    "def key_differences(dict1, dict2, len1, len2):\n",
    "    \"\"\"\n",
    "    Evaluate differences \n",
    "    \"\"\"\n",
    "    dict1_key = dict1.keys()\n",
    "    dict2_key = dict2.keys()\n",
    "    dict1_only = list(set(dict1_key)-set(dict2_key))\n",
    "    dict2_only = list(set(dict2_key)-set(dict1_key))\n",
    "    \n",
    "    allkeys = list(dict1_key|dict2_key)\n",
    "    \n",
    "    diff_dics = {}\n",
    "    for i in range(len(allkeys)):\n",
    "        if allkeys[i] in dict1_only:\n",
    "            diff_dics[allkeys[i]] = dict1[allkeys[i]] / len1\n",
    "        elif allkeys[i] in dict2_only:\n",
    "            diff_dics[allkeys[i]] = dict2[allkeys[i]] / len2\n",
    "        else:\n",
    "            diff_dics[allkeys[i]] = np.abs(dict1[allkeys[i]] / len1 -  dict2[allkeys[i]] / len2)\n",
    "    \n",
    "    diff_dics = sorting_hand(diff_dics)\n",
    "    return diff_dics\n",
    "\n",
    "def sorting_hand(dic, sort='descending'):\n",
    "    \"\"\"\n",
    "    Input a dictionary and sort based on N_items\n",
    "    \"\"\"\n",
    "    if sort == 'descending':\n",
    "        sorted_dic = sorted(dic.items(), key=lambda x: x[1], reverse=True)\n",
    "    elif sort == 'ascending':\n",
    "        sorted_dic = sorted(dic.items(), key=lambda x: x[1], reverse=False)\n",
    "    return sorted_dic\n",
    "\n",
    "def count_keywords(embedded_dict, keyword):\n",
    "    \"\"\"\n",
    "    Count keywords in the \"already embedded\" dictionary\n",
    "    Returns:\n",
    "    count arrays and its median\n",
    "    \"\"\"\n",
    "    ndict = len(embedded_dict)\n",
    "    count = np.zeros(ndict)\n",
    "    for i in range(ndict):\n",
    "        onekeys = embedded_dict[i].keys()\n",
    "        if keyword in onekeys:\n",
    "            count[i] = embedded_dict[i][keyword]\n",
    "        else:\n",
    "            count[i] = 0\n",
    "            \n",
    "    return count, np.median(count)\n",
    "\n",
    "\n",
    "def spliting_sets(train1, train2, keyword):\n",
    "    \"\"\"\n",
    "    Spliting\n",
    "    \"\"\"\n",
    "    cut_thresh = find_decision_threshold(train1, train2, keyword)\n",
    "    train1_distr, train1_med = count_keywords(train1, keyword)\n",
    "    train2_distr, train2_med = count_keywords(train2, keyword)\n",
    "    \n",
    "    ntrain1 = len(train1_distr)\n",
    "    ntrain2 = len(train2_distr)\n",
    "    \n",
    "    train1_low = []\n",
    "    train1_high = []\n",
    "    train2_low = []\n",
    "    train2_high = []\n",
    "    \n",
    "    for i in range(ntrain1):\n",
    "        if train1_distr[i] <= cut_thresh:\n",
    "            train1_low.append(train1[i])\n",
    "        else:\n",
    "            train1_high.append(train1[i])\n",
    "        \n",
    "    for j in range(ntrain2):\n",
    "        if train2_distr[j] <= cut_thresh:\n",
    "            train2_low.append(train2[j])\n",
    "        else:\n",
    "            train2_high.append(train2[j])\n",
    "    \n",
    "    return train1_low, train1_high, train2_low, train2_high"
   ]
  },
  {
   "cell_type": "markdown",
   "metadata": {},
   "source": [
    "### Decision Tree"
   ]
  },
  {
   "cell_type": "code",
   "execution_count": 41,
   "metadata": {
    "collapsed": true
   },
   "outputs": [],
   "source": [
    "def find_decision_threshold(train1, train2, keyword):\n",
    "    \"\"\"\n",
    "    Compute the entropy to determine the decision boundary\n",
    "    \"\"\"\n",
    "    train1_distr, train1_med = count_keywords(train1, keyword)\n",
    "    train2_distr, train2_med = count_keywords(train2, keyword)\n",
    "    \n",
    "    maxi = int(np.max(np.concatenate((train1_distr,train2_distr))))\n",
    "    \n",
    "    entropies = np.zeros((maxi, 2))\n",
    "    weighted_entrop = np.zeros(maxi)\n",
    "    \n",
    "    if maxi == 0:\n",
    "        return maxi\n",
    "    \n",
    "    for i in range(maxi):\n",
    "        ntrain1_low = len(np.where(train1_distr <= i)[0])\n",
    "        ntrain2_low = len(np.where(train2_distr <= i)[0])\n",
    "        entropies[i,0] = compute_entropy(ntrain1_low, ntrain2_low)\n",
    "        \n",
    "        ntrain1_high = len(np.where(train1_distr > i)[0])\n",
    "        ntrain2_high = len(np.where(train2_distr > i)[0])\n",
    "        entropies[i,1] = compute_entropy(ntrain1_high, ntrain2_high)\n",
    "       \n",
    "        ntrain_low = ntrain1_low + ntrain2_low\n",
    "        ntrain_high = ntrain1_high + ntrain2_high\n",
    "        all_ntrain = ntrain_low + ntrain_high\n",
    "    \n",
    "        weighted_entrop[i] = ntrain_low / all_ntrain * entropies[i,0] + ntrain_high / all_ntrain * entropies[i,1]\n",
    "        #print(ntrain1_low, ntrain2_low, ntrain1_high, ntrain2_high)\n",
    "    \n",
    "    #print(weighted_entrop)\n",
    "    #print(np.nanargmin(weighted_entrop))\n",
    "    return np.nanargmin(weighted_entrop)\n",
    "\n",
    "\n",
    "def compute_entropy(train1_count, train2_count):\n",
    "    \"\"\"\n",
    "    Compute Entropy to judge whether this is a good classifier for one dictionary\n",
    "    \"\"\"\n",
    "    if train1_count == 0 or train2_count == 0:\n",
    "        return 0\n",
    "    \n",
    "    total_count = train1_count + train2_count\n",
    "    \n",
    "    ratio1 = train1_count / total_count\n",
    "    ratio2 = train2_count / total_count\n",
    "    entropy = - ratio1 * np.log2(ratio1) - ratio2 * np.log2(ratio2)\n",
    "    return entropy\n",
    "\n",
    "\n",
    "class DTnode(object):\n",
    "    def __init__(self, threshold, major, feature, left, right):\n",
    "        self.threshold = threshold\n",
    "        self.feature = feature\n",
    "        self.left = left\n",
    "        self.right = right\n",
    "        self.major = major\n",
    "\n",
    "        \n",
    "def Make_DT(train1, train2, featurelist):\n",
    "    \n",
    "    return_node = DTnode(threshold=None, major=None, feature=None, left=None, right=None)\n",
    "    \n",
    "    if len(train1) > len(train2):\n",
    "        return_node.major = 0.\n",
    "    else:\n",
    "        return_node.major = 1.\n",
    "    \n",
    "    if len(featurelist) == 0:\n",
    "        return_node.threshold = -1\n",
    "        return return_node\n",
    "    \n",
    "    feature = featurelist[0]\n",
    "    return_node.feature = feature\n",
    "        \n",
    "    if len(train1) == 0 or len(train2) == 0:\n",
    "        return_node.threshold = -1\n",
    "        return return_node\n",
    "\n",
    "    thresh = find_decision_threshold(train1, train2, feature)\n",
    "    return_node.threshold = thresh\n",
    "    \n",
    "    low1, high1, low2, high2 = spliting_sets(train1, train2, feature)\n",
    "    \n",
    "    featurelist = featurelist[1:]\n",
    "    \n",
    "    return_node.left = Make_DT(low1, low2, featurelist)\n",
    "    return_node.right = Make_DT(high1, high2, featurelist)\n",
    "    \n",
    "    return return_node\n",
    "    \n",
    "def Decision_Tree_Test(test, DT_node):\n",
    "    \n",
    "    if DT_node.left == None and DT_node.right == None:\n",
    "        return DT_node.major\n",
    "    \n",
    "    feature = DT_node.feature\n",
    "    threshold = DT_node.threshold\n",
    "    \n",
    "    keylist = list(test.keys())\n",
    "    nword = 0\n",
    "    \n",
    "    if feature in keylist:\n",
    "        nword = test[feature]\n",
    "        \n",
    "    if nword <= threshold:\n",
    "        return Decision_Tree_Test(test, DT_node.left)\n",
    "    else:\n",
    "        return Decision_Tree_Test(test, DT_node.right)\n",
    "    \n",
    "def Decision_Tree(test, train1, train2, train1_sum, train2_sum, nfeature=5):\n",
    "    \"\"\"\n",
    "    Run the decision tree algorithm\n",
    "    \n",
    "    Returns to scores: 0-train1, 1-train2\n",
    "    \"\"\"\n",
    "\n",
    "    diff_dicts = key_differences(train1_sum, train2_sum, len(train1), len(train2))\n",
    "    featurelist = []\n",
    "    \n",
    "    for i in range(nfeature):\n",
    "        featurelist.append(diff_dicts[i][0])\n",
    "        \n",
    "    DT_node = Make_DT(train1, train2, featurelist)\n",
    "    \n",
    "    ntest = len(test)\n",
    "    scores = np.zeros(ntest)\n",
    "    embedded = embed_one(test)\n",
    "    \n",
    "    for n in range(ntest):\n",
    "        testing = embedded[n]\n",
    "        scores[n] = Decision_Tree_Test(testing, DT_node)\n",
    "    \n",
    "    return scores"
   ]
  },
  {
   "cell_type": "markdown",
   "metadata": {},
   "source": [
    "### Naive Bayes and Nearest Neighbors"
   ]
  },
  {
   "cell_type": "code",
   "execution_count": 304,
   "metadata": {
    "collapsed": true
   },
   "outputs": [],
   "source": [
    "def Naive_Bayes(test, train, prior=1500/5172):\n",
    "    \"\"\"\n",
    "    Compute the score of test with respect to training sets using Naive Bayes\n",
    "    \n",
    "    Input\n",
    "    test = ['email message']\n",
    "    train [dict] : a dictionary of total bag-of-words\n",
    "    prior = N_email / N_total (eg. 1500/5172 for SPAM or 3672/1500 for HAM)\n",
    "    Returns to scores\n",
    "    \"\"\"\n",
    "    train_keys = train.keys()\n",
    "    all_train_vals = sum(list(train.values())) ## sum of all occurances\n",
    "    \n",
    "    ### find the overlapping term\n",
    "    testing = embed_one_sample(test)\n",
    "    testkeys = testing.keys()\n",
    "    ntest = len(testkeys)\n",
    "    \n",
    "    score = prior\n",
    "    log_score = np.log10(prior)\n",
    "    \n",
    "    for i in range(ntest):\n",
    "        denominator = (all_train_vals + ntest+1)\n",
    "        tkey = list(testkeys)[i]\n",
    "        if tkey in train_keys:\n",
    "            multi_factor = testing[tkey]\n",
    "            score *= ((train[tkey] + 1) / denominator)**(multi_factor)\n",
    "            log_score += multi_factor * np.log10((train[tkey] + 1) / denominator)\n",
    "        else:\n",
    "            score *= 1 / denominator\n",
    "            log_score += np.log10(1 / denominator)\n",
    "            \n",
    "    return log_score\n",
    "\n",
    "\n",
    "\n",
    "def NN_Distances(test, train, nn_option='L2'):\n",
    "    \"\"\"\n",
    "    Compute the distance of test based on training sets using Nearest Neighbor\n",
    "    test: test [one_email] ; train (individual dictionaries)\n",
    "    \n",
    "    Input:\n",
    "    test = ['email message']\n",
    "    train [list] : a collection of individual set dict\n",
    "    \n",
    "    Returns to the array of distances\n",
    "    \"\"\"\n",
    "    testing = embed_one_sample(test) ## because it's just one\n",
    "    #print (testing)\n",
    "    testkeys = testing.keys()\n",
    "    ntest = len(testkeys)\n",
    "\n",
    "    ntrain = len(train)\n",
    "    dist = np.zeros(ntrain)\n",
    "    \n",
    "    for i in range(ntrain):\n",
    "        onekey = train[i].keys()\n",
    "        one_eval = testing.copy()\n",
    "        one_eval.update(train[i]) ## for all un-matching dictionaries\n",
    "        for j in range(ntest):\n",
    "            if list(testkeys)[j] in onekey:\n",
    "                thiskey = list(testkeys)[j]\n",
    "                one_eval[thiskey] = train[i][thiskey] - testing[thiskey] ## subtract only when items are matching\n",
    "            else:\n",
    "                pass\n",
    "            \n",
    "        one_eval = np.array(list(one_eval.values()))\n",
    "        if nn_option == 'L1':\n",
    "            dist[i] = np.sum(np.abs(one_eval))\n",
    "        elif nn_option == 'Linf':\n",
    "            dist[i] = np.max(np.abs(one_eval))\n",
    "        elif nn_option == 'L2':\n",
    "            dist[i] = np.sqrt(sum(one_eval**2))\n",
    "            \n",
    "    return dist\n",
    "\n",
    "## Returns to a common measure\n",
    "def Classifier(new, one, two, option='NB', nn_option='L2', dt_option=50):\n",
    "    \"\"\"\n",
    "    For \"overlapping\" bag of words between new and training sets, evaluate probability based on classifier of choice\n",
    "    NB: Naive Bayes; DT: Decision Tree; NN: Nearest Neighbors\n",
    "    New (to-be-examined); one(training 1); two(training 2)\n",
    "    \"\"\"\n",
    "    \n",
    "    ntest = len(new)\n",
    "    scores = np.zeros(ntest)\n",
    "    nnew = len(new)\n",
    "    none = len(one)\n",
    "    ntwo = len(two)\n",
    "    if option in ['NN', 'DT']:\n",
    "        one_bag = embed_one(one) \n",
    "        two_bag = embed_one(two)\n",
    "    else:\n",
    "        one_bag = embed_whole(one)\n",
    "        two_bag = embed_whole(two)\n",
    "        \n",
    "    if option == 'NN':\n",
    "        for n in range(ntest):\n",
    "            dist_one = NN_Distances(new[n], one_bag, nn_option)\n",
    "            dist_two = NN_Distances(new[n], two_bag, nn_option)\n",
    "            #print ('scores1', dist_one, 'scores2', dist_two)\n",
    "            \n",
    "            scores1 = 1 / np.min(dist_one) ## only for NN smaller number signifies better score\n",
    "            scores2 = 1 / np.min(dist_two)\n",
    "                \n",
    "            if scores1 > scores2:\n",
    "                scores[n] = 1.\n",
    "\n",
    "    elif option == 'NB':\n",
    "        for n in range(ntest):    \n",
    "            scores1 = Naive_Bayes(new[n], one_bag, prior=nnew/none)\n",
    "            scores2 = Naive_Bayes(new[n], two_bag, prior=nnew/ntwo)\n",
    "            if scores1 > scores2:\n",
    "                scores[n] = 1.\n",
    "            \n",
    "\n",
    "    elif option == 'DT':\n",
    "        one_sum_bag = embed_whole(one)\n",
    "        two_sum_bag = embed_whole(two)\n",
    "            \n",
    "        scores = Decision_Tree(new, one_bag, two_bag, one_sum_bag, two_sum_bag, nfeature=dt_option)\n",
    "            \n",
    "    return scores\n",
    "\n",
    "def analyze_classifier_results(scores):\n",
    "    \"\"\"\n",
    "    Compute the Performance Rate[%] of classfied result\n",
    "    \"\"\"\n",
    "    right = np.count_nonzero(scores)\n",
    "    total = len(scores)\n",
    "    return right/total * 100"
   ]
  },
  {
   "cell_type": "markdown",
   "metadata": {},
   "source": [
    "### Randomly Sampling the Case for Nham=300, Nspam=300 for the training set"
   ]
  },
  {
   "cell_type": "code",
   "execution_count": 411,
   "metadata": {
    "collapsed": true
   },
   "outputs": [],
   "source": [
    "hams_array = np.array(hams.copy())\n",
    "spams_array = np.array(spams.copy())"
   ]
  },
  {
   "cell_type": "code",
   "execution_count": 305,
   "metadata": {},
   "outputs": [
    {
     "name": "stderr",
     "output_type": "stream",
     "text": [
      "/Users/Doyeon/anaconda3/lib/python3.6/site-packages/ipykernel_launcher.py:2: DeprecationWarning: This function is deprecated. Please call randint(0, 3500 + 1) instead\n",
      "  \n",
      "/Users/Doyeon/anaconda3/lib/python3.6/site-packages/ipykernel_launcher.py:3: DeprecationWarning: This function is deprecated. Please call randint(0, 1499 + 1) instead\n",
      "  This is separate from the ipykernel package so we can avoid doing imports until\n"
     ]
    }
   ],
   "source": [
    "ns=300\n",
    "random_draw0 = np.random.random_integers(0,3500,ns)\n",
    "ramdom_draw1 = np.random.random_integers(0,1499,ns)"
   ]
  },
  {
   "cell_type": "code",
   "execution_count": 306,
   "metadata": {
    "collapsed": true
   },
   "outputs": [],
   "source": [
    "ham_test_index = np.array(list(set(np.arange(len(hams)))- set(random_draw0))[:100])\n",
    "spam_test_index = np.array(list(set(np.arange(len(spams)))- set(ramdom_draw1))[:100])\n",
    "\n",
    "ham_testing = hams_array[[ham_test_index]]\n",
    "spam_testing = spams_array[[spam_test_index]]\n",
    "\n",
    "ham_training = hams_array[[random_draw0]]\n",
    "spam_training = spams_array[[ramdom_draw1]]"
   ]
  },
  {
   "cell_type": "code",
   "execution_count": 307,
   "metadata": {},
   "outputs": [
    {
     "name": "stderr",
     "output_type": "stream",
     "text": [
      "/Users/Doyeon/anaconda3/lib/python3.6/site-packages/ipykernel_launcher.py:134: RuntimeWarning: divide by zero encountered in double_scalars\n"
     ]
    }
   ],
   "source": [
    "nnl1_scores_ham = Classifier(ham_testing, ham_training, spam_training, option='NN', nn_option='L1')\n",
    "nnl1_scores_spam = Classifier(spam_testing, ham_training, spam_training, option='NN', nn_option='L1')\n",
    "\n",
    "nnl2_scores_ham = Classifier(ham_testing, ham_training, spam_training, option='NN', nn_option='L2')\n",
    "nnl2_scores_spam = Classifier(spam_testing, ham_training, spam_training, option='NN', nn_option='L2')\n",
    "\n",
    "nnlinf_scores_ham = Classifier(ham_testing, ham_training, spam_training, option='NN', nn_option='Linf')\n",
    "nnlinf_scores_spam = Classifier(spam_testing, ham_training, spam_training, option='NN', nn_option='Linf')\n",
    "\n",
    "nb_scores_ham = Classifier(ham_testing, ham_training, spam_training, option='NB')\n",
    "nb_scores_spam = Classifier(spam_testing, ham_training, spam_training, option='NB')"
   ]
  },
  {
   "cell_type": "code",
   "execution_count": 309,
   "metadata": {
    "scrolled": true
   },
   "outputs": [
    {
     "name": "stdout",
     "output_type": "stream",
     "text": [
      "[ 1.  1.  1.  1.  0.  1.  1.  1.  1.  1.  1.  1.  1.  1.  1.  1.  1.  0.\n",
      "  1.  1.  1.  1.  1.  1.  1.  1.  1.  1.  1.  1.  1.  1.  1.  1.  1.  1.\n",
      "  1.  1.  1.  1.  1.  1.  1.  1.  1.  1.  1.  1.  1.  1.  1.  1.  1.  1.\n",
      "  1.  1.  1.  1.  1.  1.  1.  1.  1.  1.  1.  1.  1.  1.  1.  1.  1.  1.\n",
      "  1.  1.  1.  1.  1.  1.  1.  1.  1.  1.  1.  1.  1.  1.  1.  1.  1.  1.\n",
      "  1.  1.  1.  1.  1.  1.  1.  1.  0.  1.]\n",
      "[ 1.  0.  1.  0.  0.  1.  1.  1.  0.  0.  0.  0.  0.  0.  1.  0.  0.  0.\n",
      "  0.  1.  0.  0.  0.  0.  0.  0.  0.  0.  0.  1.  0.  0.  0.  1.  0.  0.\n",
      "  0.  1.  1.  0.  0.  0.  0.  1.  0.  0.  0.  0.  0.  1.  0.  0.  1.  1.\n",
      "  0.  1.  0.  0.  1.  1.  1.  1.  0.  0.  0.  0.  1.  1.  0.  0.  0.  0.\n",
      "  1.  0.  0.  0.  0.  0.  0.  1.  0.  1.  0.  0.  1.  1.  1.  0.  0.  0.\n",
      "  0.  0.  0.  0.  1.  0.  1.  0.  0.  0.]\n",
      "[ 1.  1.  1.  1.  0.  1.  1.  1.  1.  1.  1.  1.  1.  1.  1.  1.  1.  0.\n",
      "  1.  1.  1.  1.  1.  1.  1.  1.  1.  0.  1.  1.  1.  1.  1.  1.  1.  1.\n",
      "  1.  1.  1.  1.  1.  1.  1.  1.  1.  1.  1.  1.  1.  1.  1.  1.  1.  1.\n",
      "  1.  1.  1.  1.  1.  0.  1.  1.  1.  1.  1.  1.  1.  1.  1.  1.  1.  1.\n",
      "  1.  1.  1.  1.  1.  1.  1.  1.  1.  0.  1.  1.  1.  1.  1.  1.  1.  1.\n",
      "  1.  1.  1.  1.  1.  1.  1.  1.  1.  1.]\n",
      "[ 1.  0.  0.  0.  0.  0.  0.  1.  0.  0.  0.  0.  0.  0.  1.  0.  0.  0.\n",
      "  0.  1.  0.  0.  0.  0.  0.  0.  0.  0.  0.  1.  0.  0.  0.  0.  0.  0.\n",
      "  0.  1.  0.  0.  0.  0.  0.  1.  0.  0.  1.  0.  0.  1.  0.  0.  1.  0.\n",
      "  0.  1.  0.  0.  0.  0.  1.  1.  0.  0.  0.  0.  0.  0.  0.  0.  0.  0.\n",
      "  0.  0.  0.  0.  0.  0.  0.  1.  0.  1.  0.  1.  0.  1.  1.  0.  0.  0.\n",
      "  0.  0.  0.  0.  1.  0.  1.  0.  0.  0.]\n"
     ]
    }
   ],
   "source": [
    "dtscores_spam10 = Classifier(spam_testing, ham_training, spam_training, option='DT', dt_option=10)\n",
    "dtscores_ham10 = Classifier(ham_testing, ham_training, spam_training, option='DT', dt_option=10)\n",
    "dtscores_spam100 = Classifier(spam_testing, ham_training, spam_training, option='DT', dt_option=100)\n",
    "dtscores_ham100 = Classifier(ham_testing, ham_training, spam_training, option='DT', dt_option=100)"
   ]
  },
  {
   "cell_type": "code",
   "execution_count": 312,
   "metadata": {},
   "outputs": [],
   "source": [
    "n11ham=analyze_classifier_results(nnl1_scores_ham)\n",
    "n11spam=100-analyze_classifier_results(nnl1_scores_spam)\n",
    "\n",
    "n12ham=analyze_classifier_results(nnl2_scores_ham)\n",
    "n12spam=100-analyze_classifier_results(nnl2_scores_spam)\n",
    "\n",
    "n1infham=analyze_classifier_results(nnlinf_scores_ham)\n",
    "n1infspam=100-analyze_classifier_results(nnlinf_scores_spam)\n",
    "\n",
    "nbham=analyze_classifier_results(nb_scores_ham)\n",
    "nbspam=100-analyze_classifier_results(nb_scores_spam)\n",
    "\n",
    "dt10ham=analyze_classifier_results(dtscores_spam10)\n",
    "dt10spam=100 - analyze_classifier_results(dtscores_ham10)\n",
    "\n",
    "dt100ham=analyze_classifier_results(dtscores_spam100)\n",
    "dt100spam=100 - analyze_classifier_results(dtscores_ham100)"
   ]
  },
  {
   "cell_type": "code",
   "execution_count": 315,
   "metadata": {
    "collapsed": true
   },
   "outputs": [],
   "source": [
    "result_index = ['nn1_ham', 'nn1_spam', 'nn2_ham','nn2_spam','nninf_ham','nninf_spam','nb_ham','nb_spam','dt10_ham','dt10_spam','dt100_ham','dt100_spam']\n",
    "resulth300_s300 = np.array([n11ham,n11spam,n12ham,n12spam,n1infham,n1infspam,nbham,nbspam,dt10ham,dt10spam,dt100ham,dt100spam])"
   ]
  },
  {
   "cell_type": "code",
   "execution_count": 323,
   "metadata": {},
   "outputs": [
    {
     "data": {
      "text/plain": [
       "array([ 41.,  97.,  79.,  88.,  56.,  96.,  96.,  61.,  97.,  70.,  95.,\n",
       "        80.])"
      ]
     },
     "execution_count": 323,
     "metadata": {},
     "output_type": "execute_result"
    }
   ],
   "source": [
    "resulth300_s300"
   ]
  },
  {
   "cell_type": "markdown",
   "metadata": {},
   "source": [
    "#### Ham=1000, Spam = 1000"
   ]
  },
  {
   "cell_type": "code",
   "execution_count": 316,
   "metadata": {},
   "outputs": [
    {
     "name": "stderr",
     "output_type": "stream",
     "text": [
      "/Users/Doyeon/anaconda3/lib/python3.6/site-packages/ipykernel_launcher.py:2: DeprecationWarning: This function is deprecated. Please call randint(0, 3500 + 1) instead\n",
      "  \n",
      "/Users/Doyeon/anaconda3/lib/python3.6/site-packages/ipykernel_launcher.py:3: DeprecationWarning: This function is deprecated. Please call randint(0, 1499 + 1) instead\n",
      "  This is separate from the ipykernel package so we can avoid doing imports until\n"
     ]
    }
   ],
   "source": [
    "ns=1000\n",
    "random_draw0 = np.random.random_integers(0,3500,ns)\n",
    "ramdom_draw1 = np.random.random_integers(0,1499,ns)"
   ]
  },
  {
   "cell_type": "code",
   "execution_count": 317,
   "metadata": {
    "collapsed": true
   },
   "outputs": [],
   "source": [
    "ham_test_index = np.array(list(set(np.arange(len(hams)))- set(random_draw0))[:100])\n",
    "spam_test_index = np.array(list(set(np.arange(len(spams)))- set(ramdom_draw1))[:100])\n",
    "\n",
    "ham_testing = hams_array[[ham_test_index]]\n",
    "spam_testing = spams_array[[spam_test_index]]\n",
    "\n",
    "ham_training = hams_array[[random_draw0]]\n",
    "spam_training = spams_array[[ramdom_draw1]]"
   ]
  },
  {
   "cell_type": "code",
   "execution_count": 318,
   "metadata": {},
   "outputs": [
    {
     "name": "stderr",
     "output_type": "stream",
     "text": [
      "/Users/Doyeon/anaconda3/lib/python3.6/site-packages/ipykernel_launcher.py:133: RuntimeWarning: divide by zero encountered in double_scalars\n"
     ]
    }
   ],
   "source": [
    "nnl1_scores_ham = Classifier(ham_testing, ham_training, spam_training, option='NN', nn_option='L1')\n",
    "nnl1_scores_spam = Classifier(spam_testing, ham_training, spam_training, option='NN', nn_option='L1')\n",
    "\n",
    "nnl2_scores_ham = Classifier(ham_testing, ham_training, spam_training, option='NN', nn_option='L2')\n",
    "nnl2_scores_spam = Classifier(spam_testing, ham_training, spam_training, option='NN', nn_option='L2')\n",
    "\n",
    "nnlinf_scores_ham = Classifier(ham_testing, ham_training, spam_training, option='NN', nn_option='Linf')\n",
    "nnlinf_scores_spam = Classifier(spam_testing, ham_training, spam_training, option='NN', nn_option='Linf')\n",
    "\n",
    "nb_scores_ham = Classifier(ham_testing, ham_training, spam_training, option='NB')\n",
    "nb_scores_spam = Classifier(spam_testing, ham_training, spam_training, option='NB')\n",
    "\n",
    "dtscores_spam10 = Classifier(spam_testing, ham_training, spam_training, option='DT', dt_option=10)\n",
    "dtscores_ham10 = Classifier(ham_testing, ham_training, spam_training, option='DT', dt_option=10)\n",
    "dtscores_spam100 = Classifier(spam_testing, ham_training, spam_training, option='DT', dt_option=100)\n",
    "dtscores_ham100 = Classifier(ham_testing, ham_training, spam_training, option='DT', dt_option=100)"
   ]
  },
  {
   "cell_type": "code",
   "execution_count": 320,
   "metadata": {
    "collapsed": true
   },
   "outputs": [],
   "source": [
    "n11ham=analyze_classifier_results(nnl1_scores_ham)\n",
    "n11spam=100-analyze_classifier_results(nnl1_scores_spam)\n",
    "\n",
    "n12ham=analyze_classifier_results(nnl2_scores_ham)\n",
    "n12spam=100-analyze_classifier_results(nnl2_scores_spam)\n",
    "\n",
    "n1infham=analyze_classifier_results(nnlinf_scores_ham)\n",
    "n1infspam=100-analyze_classifier_results(nnlinf_scores_spam)\n",
    "\n",
    "nbham=analyze_classifier_results(nb_scores_ham)\n",
    "nbspam=100-analyze_classifier_results(nb_scores_spam)\n",
    "\n",
    "dt10ham=analyze_classifier_results(dtscores_spam10)\n",
    "dt10spam=100 - analyze_classifier_results(dtscores_ham10)\n",
    "\n",
    "dt100ham=analyze_classifier_results(dtscores_spam100)\n",
    "dt100spam=100 - analyze_classifier_results(dtscores_ham100)"
   ]
  },
  {
   "cell_type": "code",
   "execution_count": 321,
   "metadata": {
    "collapsed": true
   },
   "outputs": [],
   "source": [
    "result_index = ['nn1_ham', 'nn1_spam', 'nn2_ham','nn2_spam','nninf_ham','nninf_spam','nb_ham','nb_spam','dt10_ham','dt10_spam','dt100_ham','dt100_spam']\n",
    "resulth1000_s1000 = np.array([n11ham,n11spam,n12ham,n12spam,n1infham,n1infspam,nbham,nbspam,dt10ham,dt10spam,dt100ham,dt100spam])"
   ]
  },
  {
   "cell_type": "code",
   "execution_count": 322,
   "metadata": {
    "scrolled": true
   },
   "outputs": [
    {
     "data": {
      "text/plain": [
       "array([ 65.,  96.,  85.,  93.,  53.,  93.,  97.,  79.,  94.,  70.,  91.,\n",
       "        83.])"
      ]
     },
     "execution_count": 322,
     "metadata": {},
     "output_type": "execute_result"
    }
   ],
   "source": [
    "resulth1000_s1000"
   ]
  },
  {
   "cell_type": "markdown",
   "metadata": {},
   "source": [
    "#### Ham = 300, Spam =1000"
   ]
  },
  {
   "cell_type": "code",
   "execution_count": 324,
   "metadata": {},
   "outputs": [
    {
     "name": "stderr",
     "output_type": "stream",
     "text": [
      "/Users/Doyeon/anaconda3/lib/python3.6/site-packages/ipykernel_launcher.py:1: DeprecationWarning: This function is deprecated. Please call randint(0, 3500 + 1) instead\n",
      "  \"\"\"Entry point for launching an IPython kernel.\n",
      "/Users/Doyeon/anaconda3/lib/python3.6/site-packages/ipykernel_launcher.py:2: DeprecationWarning: This function is deprecated. Please call randint(0, 1499 + 1) instead\n",
      "  \n"
     ]
    }
   ],
   "source": [
    "random_draw0 = np.random.random_integers(0,3500,1000)\n",
    "ramdom_draw1 = np.random.random_integers(0,1499,300)"
   ]
  },
  {
   "cell_type": "code",
   "execution_count": 325,
   "metadata": {
    "collapsed": true
   },
   "outputs": [],
   "source": [
    "ham_test_index = np.array(list(set(np.arange(len(hams)))- set(random_draw0))[:100])\n",
    "spam_test_index = np.array(list(set(np.arange(len(spams)))- set(ramdom_draw1))[:100])\n",
    "\n",
    "ham_testing = hams_array[[ham_test_index]]\n",
    "spam_testing = spams_array[[spam_test_index]]\n",
    "\n",
    "ham_training = hams_array[[random_draw0]]\n",
    "spam_training = spams_array[[ramdom_draw1]]"
   ]
  },
  {
   "cell_type": "code",
   "execution_count": 326,
   "metadata": {},
   "outputs": [
    {
     "name": "stderr",
     "output_type": "stream",
     "text": [
      "/Users/Doyeon/anaconda3/lib/python3.6/site-packages/ipykernel_launcher.py:134: RuntimeWarning: divide by zero encountered in double_scalars\n"
     ]
    }
   ],
   "source": [
    "nnl1_scores_ham = Classifier(ham_testing, ham_training, spam_training, option='NN', nn_option='L1')\n",
    "nnl1_scores_spam = Classifier(spam_testing, ham_training, spam_training, option='NN', nn_option='L1')\n",
    "\n",
    "nnl2_scores_ham = Classifier(ham_testing, ham_training, spam_training, option='NN', nn_option='L2')\n",
    "nnl2_scores_spam = Classifier(spam_testing, ham_training, spam_training, option='NN', nn_option='L2')\n",
    "\n",
    "nnlinf_scores_ham = Classifier(ham_testing, ham_training, spam_training, option='NN', nn_option='Linf')\n",
    "nnlinf_scores_spam = Classifier(spam_testing, ham_training, spam_training, option='NN', nn_option='Linf')\n",
    "\n",
    "nb_scores_ham = Classifier(ham_testing, ham_training, spam_training, option='NB')\n",
    "nb_scores_spam = Classifier(spam_testing, ham_training, spam_training, option='NB')\n",
    "\n",
    "dtscores_spam10 = Classifier(spam_testing, ham_training, spam_training, option='DT', dt_option=10)\n",
    "dtscores_ham10 = Classifier(ham_testing, ham_training, spam_training, option='DT', dt_option=10)\n",
    "dtscores_spam100 = Classifier(spam_testing, ham_training, spam_training, option='DT', dt_option=100)\n",
    "dtscores_ham100 = Classifier(ham_testing, ham_training, spam_training, option='DT', dt_option=100)"
   ]
  },
  {
   "cell_type": "code",
   "execution_count": 328,
   "metadata": {
    "collapsed": true
   },
   "outputs": [],
   "source": [
    "n11ham=analyze_classifier_results(nnl1_scores_ham)\n",
    "n11spam=100-analyze_classifier_results(nnl1_scores_spam)\n",
    "\n",
    "n12ham=analyze_classifier_results(nnl2_scores_ham)\n",
    "n12spam=100-analyze_classifier_results(nnl2_scores_spam)\n",
    "\n",
    "n1infham=analyze_classifier_results(nnlinf_scores_ham)\n",
    "n1infspam=100-analyze_classifier_results(nnlinf_scores_spam)\n",
    "\n",
    "nbham=analyze_classifier_results(nb_scores_ham)\n",
    "nbspam=100-analyze_classifier_results(nb_scores_spam)\n",
    "\n",
    "dt10ham=analyze_classifier_results(dtscores_spam10)\n",
    "dt10spam=100 - analyze_classifier_results(dtscores_ham10)\n",
    "\n",
    "dt100ham=analyze_classifier_results(dtscores_spam100)\n",
    "dt100spam=100 - analyze_classifier_results(dtscores_ham100)"
   ]
  },
  {
   "cell_type": "code",
   "execution_count": 329,
   "metadata": {
    "collapsed": true
   },
   "outputs": [],
   "source": [
    "result_index = ['nn1_ham', 'nn1_spam', 'nn2_ham','nn2_spam','nninf_ham','nninf_spam','nb_ham','nb_spam','dt10_ham','dt10_spam','dt100_ham','dt100_spam']\n",
    "resulth300_s1000 = np.array([n11ham,n11spam,n12ham,n12spam,n1infham,n1infspam,nbham,nbspam,dt10ham,dt10spam,dt100ham,dt100spam])"
   ]
  },
  {
   "cell_type": "code",
   "execution_count": 330,
   "metadata": {
    "scrolled": true
   },
   "outputs": [
    {
     "data": {
      "text/plain": [
       "array([ 59.,  93.,  83.,  88.,  63.,  94.,  82.,  93.,  46.,  94.,  80.,\n",
       "        93.])"
      ]
     },
     "execution_count": 330,
     "metadata": {},
     "output_type": "execute_result"
    }
   ],
   "source": [
    "resulth300_s1000"
   ]
  },
  {
   "cell_type": "markdown",
   "metadata": {},
   "source": [
    "#### Ham = 3000, Spam =1000"
   ]
  },
  {
   "cell_type": "code",
   "execution_count": 331,
   "metadata": {},
   "outputs": [
    {
     "name": "stderr",
     "output_type": "stream",
     "text": [
      "/Users/Doyeon/anaconda3/lib/python3.6/site-packages/ipykernel_launcher.py:1: DeprecationWarning: This function is deprecated. Please call randint(0, 3500 + 1) instead\n",
      "  \"\"\"Entry point for launching an IPython kernel.\n",
      "/Users/Doyeon/anaconda3/lib/python3.6/site-packages/ipykernel_launcher.py:2: DeprecationWarning: This function is deprecated. Please call randint(0, 1499 + 1) instead\n",
      "  \n"
     ]
    }
   ],
   "source": [
    "random_draw0 = np.random.random_integers(0,3500,3000)\n",
    "ramdom_draw1 = np.random.random_integers(0,1499,1000)\n",
    "\n",
    "ham_test_index = np.array(list(set(np.arange(len(hams)))- set(random_draw0))[:100])\n",
    "spam_test_index = np.array(list(set(np.arange(len(spams)))- set(ramdom_draw1))[:100])\n",
    "\n",
    "ham_testing = hams_array[[ham_test_index]]\n",
    "spam_testing = spams_array[[spam_test_index]]\n",
    "\n",
    "ham_training = hams_array[[random_draw0]]\n",
    "spam_training = spams_array[[ramdom_draw1]]"
   ]
  },
  {
   "cell_type": "code",
   "execution_count": 332,
   "metadata": {},
   "outputs": [],
   "source": [
    "nnl1_scores_ham = Classifier(ham_testing, ham_training, spam_training, option='NN', nn_option='L1')\n",
    "nnl1_scores_spam = Classifier(spam_testing, ham_training, spam_training, option='NN', nn_option='L1')\n",
    "\n",
    "nnl2_scores_ham = Classifier(ham_testing, ham_training, spam_training, option='NN', nn_option='L2')\n",
    "nnl2_scores_spam = Classifier(spam_testing, ham_training, spam_training, option='NN', nn_option='L2')\n",
    "\n",
    "nnlinf_scores_ham = Classifier(ham_testing, ham_training, spam_training, option='NN', nn_option='Linf')\n",
    "nnlinf_scores_spam = Classifier(spam_testing, ham_training, spam_training, option='NN', nn_option='Linf')\n",
    "\n",
    "nb_scores_ham = Classifier(ham_testing, ham_training, spam_training, option='NB')\n",
    "nb_scores_spam = Classifier(spam_testing, ham_training, spam_training, option='NB')\n",
    "\n",
    "dtscores_spam10 = Classifier(spam_testing, ham_training, spam_training, option='DT', dt_option=10)\n",
    "dtscores_ham10 = Classifier(ham_testing, ham_training, spam_training, option='DT', dt_option=10)\n",
    "dtscores_spam100 = Classifier(spam_testing, ham_training, spam_training, option='DT', dt_option=100)\n",
    "dtscores_ham100 = Classifier(ham_testing, ham_training, spam_training, option='DT', dt_option=100)"
   ]
  },
  {
   "cell_type": "code",
   "execution_count": 334,
   "metadata": {
    "collapsed": true
   },
   "outputs": [],
   "source": [
    "n11ham=analyze_classifier_results(nnl1_scores_ham)\n",
    "n11spam=100-analyze_classifier_results(nnl1_scores_spam)\n",
    "\n",
    "n12ham=analyze_classifier_results(nnl2_scores_ham)\n",
    "n12spam=100-analyze_classifier_results(nnl2_scores_spam)\n",
    "\n",
    "n1infham=analyze_classifier_results(nnlinf_scores_ham)\n",
    "n1infspam=100-analyze_classifier_results(nnlinf_scores_spam)\n",
    "\n",
    "nbham=analyze_classifier_results(nb_scores_ham)\n",
    "nbspam=100-analyze_classifier_results(nb_scores_spam)\n",
    "\n",
    "dt10ham=analyze_classifier_results(dtscores_spam10)\n",
    "dt10spam=100 - analyze_classifier_results(dtscores_ham10)\n",
    "\n",
    "dt100ham=analyze_classifier_results(dtscores_spam100)\n",
    "dt100spam=100 - analyze_classifier_results(dtscores_ham100)"
   ]
  },
  {
   "cell_type": "code",
   "execution_count": 335,
   "metadata": {
    "collapsed": true
   },
   "outputs": [],
   "source": [
    "result_index = ['nn1_ham', 'nn1_spam', 'nn2_ham','nn2_spam','nninf_ham','nninf_spam','nb_ham','nb_spam','dt10_ham','dt10_spam','dt100_ham','dt100_spam']\n",
    "resulth3000_s1000 = np.array([n11ham,n11spam,n12ham,n12spam,n1infham,n1infspam,nbham,nbspam,dt10ham,dt10spam,dt100ham,dt100spam])"
   ]
  },
  {
   "cell_type": "code",
   "execution_count": 345,
   "metadata": {
    "collapsed": true
   },
   "outputs": [],
   "source": [
    "index = ['NN_L1', 'NN_L2', 'NN_Linf', 'NB', 'DT[10div]', 'DT[100div]']"
   ]
  },
  {
   "cell_type": "code",
   "execution_count": 402,
   "metadata": {
    "collapsed": true
   },
   "outputs": [],
   "source": [
    "file_loc = '/Volumes/Extra/Columbia/Fall2018/Classes/ML/'"
   ]
  },
  {
   "cell_type": "code",
   "execution_count": 403,
   "metadata": {},
   "outputs": [
    {
     "data": {
      "image/png": "[encoded data removed]",
      "text/plain": [
       "<matplotlib.figure.Figure at 0x1a8320cac8>"
      ]
     },
     "metadata": {},
     "output_type": "display_data"
    }
   ],
   "source": [
    "plt.figure(figsize=(10,7))\n",
    "plt.plot(resulth300_s300[::2], 'o--', color='crimson', lw=2,label='Ham Pred [300H,300S]')\n",
    "plt.plot(resulth300_s300[1::2], 'o-', color='crimson', lw=2,label='Spam Pred [300H,300S]')\n",
    "plt.xticks(range(len(index)), index)\n",
    "plt.plot(resulth1000_s1000[::2], 'o--', color='darkgreen', lw=2,label='Ham Pred [1000H,1000S]')\n",
    "plt.plot(resulth1000_s1000[1::2], 'o-', color='darkgreen', lw=2,label='Spam Pred [1000H,1000S]')\n",
    "plt.plot(resulth3000_s1000[::2], 'o--', color='blue', lw=2,label='Ham Pred [3000H,1000S]')\n",
    "plt.plot(resulth3000_s1000[1::2], 'o-', color='blue', lw=2,label='Spam Pred [3000H,1000S]')\n",
    "\n",
    "#plt.plot(result_index, resulth3000_s1000, 'o-')\n",
    "plt.ylabel('Test Performance[%]')\n",
    "plt.legend()\n",
    "plt.title('Uniform Draw Comparison [#Ham Draw, #Spam Draw]')\n",
    "#plt.savefig(file_loc+'uniform_draw.png')"
   ]
  },
  {
   "cell_type": "code",
   "execution_count": 410,
   "metadata": {},
   "outputs": [
    {
     "data": {
      "image/png": "[encoded data removed]",
      "text/plain": [
       "<matplotlib.figure.Figure at 0x1a83122898>"
      ]
     },
     "metadata": {},
     "output_type": "display_data"
    }
   ],
   "source": [
    "plt.figure(figsize=(10,7))\n",
    "plt.plot(resulth300_s1000[::2], 'o--', color='orange', lw=2,label='Ham Pred [300H,1000S]')\n",
    "plt.plot(resulth300_s1000[1::2], 'o-', color='orange', lw=2,label='Spam Pred [300H,1000S]')\n",
    "plt.xticks(range(len(index)), index)\n",
    "plt.plot(resulth1000_s300[::2], 'o--', color='teal', lw=2,label='Ham Pred [1000H,300S]')\n",
    "plt.plot(resulth1000_s300[1::2], 'o-', color='teal', lw=2,label='Spam Pred [1000H,300S]')\n",
    "plt.plot(resulth3000_s1000[::2], 'o--', color='blue', lw=2,label='Ham Pred [3000H,1000S]')\n",
    "plt.plot(resulth3000_s1000[1::2], 'o-', color='blue', lw=2,label='Spam Pred [3000H,1000S]')\n",
    "\n",
    "#plt.plot(result_index, resulth3000_s1000, 'o-')\n",
    "plt.ylabel('Test Performance[%]')\n",
    "plt.legend()\n",
    "plt.title('Disproportional Draw Comparison [#Ham Draw, #Spam Draw]')\n",
    "plt.savefig(file_loc+'disproportional_draw.png')"
   ]
  },
  {
   "cell_type": "code",
   "execution_count": null,
   "metadata": {
    "collapsed": true
   },
   "outputs": [],
   "source": []
  },
  {
   "cell_type": "code",
   "execution_count": null,
   "metadata": {
    "collapsed": true
   },
   "outputs": [],
   "source": []
  },
  {
   "cell_type": "code",
   "execution_count": null,
   "metadata": {
    "collapsed": true
   },
   "outputs": [],
   "source": []
  },
  {
   "cell_type": "code",
   "execution_count": null,
   "metadata": {
    "collapsed": true
   },
   "outputs": [],
   "source": []
  },
  {
   "cell_type": "code",
   "execution_count": null,
   "metadata": {
    "collapsed": true
   },
   "outputs": [],
   "source": []
  },
  {
   "cell_type": "code",
   "execution_count": null,
   "metadata": {
    "collapsed": true
   },
   "outputs": [],
   "source": []
  },
  {
   "cell_type": "code",
   "execution_count": null,
   "metadata": {
    "collapsed": true
   },
   "outputs": [],
   "source": []
  },
  {
   "cell_type": "code",
   "execution_count": null,
   "metadata": {
    "collapsed": true
   },
   "outputs": [],
   "source": []
  },
  {
   "cell_type": "code",
   "execution_count": null,
   "metadata": {
    "collapsed": true
   },
   "outputs": [],
   "source": []
  }
 ],
 "metadata": {
  "kernelspec": {
   "display_name": "Python 3",
   "language": "python",
   "name": "python3"
  },
  "language_info": {
   "codemirror_mode": {
    "name": "ipython",
    "version": 3
   },
   "file_extension": ".py",
   "mimetype": "text/x-python",
   "name": "python",
   "nbconvert_exporter": "python",
   "pygments_lexer": "ipython3",
   "version": "3.6.3"
  }
 },
 "nbformat": 4,
 "nbformat_minor": 2
}
